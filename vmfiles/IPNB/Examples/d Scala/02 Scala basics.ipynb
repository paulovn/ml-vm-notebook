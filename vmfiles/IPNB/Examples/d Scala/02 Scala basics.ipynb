{
 "cells": [
  {
   "cell_type": "markdown",
   "metadata": {},
   "source": [
    "# Some scala basics\n",
    "\n",
    "A few very simple characteristics of the [Scala language](http://docs.scala-lang.org/index.html).\n",
    "\n",
    "Mostly taken from *[A short primer on Scala](http://hortonworks.com/hadoop-tutorial/primer-on-scala/)*. See also additional documentation in [Scala overviews](http://docs.scala-lang.org/overviews/) and the [Scala cheatsheet](http://docs.scala-lang.org/cheatsheets/)\n",
    "\n",
    "\n",
    "In terms of general syntax, Scala is quite similar to Java. One difference is that it is less picky with semicolons: they are optional at the end of the line. Also, Scala uses the _\"everything is an object\"_ motto. All language constructs (primitive types & complex types, but also functions) are objects that can be passed around; this eases functional programming."
   ]
  },
  {
   "cell_type": "code",
   "execution_count": null,
   "metadata": {},
   "outputs": [],
   "source": [
    "// Which version of Scala?\n",
    "scala.util.Properties.versionNumberString"
   ]
  },
  {
   "cell_type": "markdown",
   "metadata": {},
   "source": [
    "## Variables"
   ]
  },
  {
   "cell_type": "markdown",
   "metadata": {},
   "source": [
    "Mutable and immutable values. Type inference"
   ]
  },
  {
   "cell_type": "code",
   "execution_count": null,
   "metadata": {},
   "outputs": [],
   "source": [
    "// A mutable variable, defined with explicit type specification\n",
    "var a: Int = 5\n",
    "a = a + 1\n",
    "println(a)\n",
    "\n",
    "// Inmutable variables\n",
    "val v1: Double = 6.2\n",
    "val v2: String = \"Hi!\"\n",
    "println( v1, v2)\n",
    "\n",
    "// Same as before, but now we use type inference\n",
    "val v1b = 6.2\n",
    "val v2b = \"Hi!\"\n",
    "println( v1b, v2b)\n",
    "println( v1b.getClass, v2b.getClass )"
   ]
  },
  {
   "cell_type": "markdown",
   "metadata": {},
   "source": [
    "## Functions"
   ]
  },
  {
   "cell_type": "code",
   "execution_count": null,
   "metadata": {},
   "outputs": [],
   "source": [
    "/* Define a function that takes an integer and returns an integer. \n",
    "   This one is a one-liner, otherwise we would use braces. \n",
    "   Also, we do not need a return statement since we are returning the last (and only) expression */\n",
    "def fact(n: Int): Int =  if (n == 0) 1 else n*fact(n-1)"
   ]
  },
  {
   "cell_type": "code",
   "execution_count": null,
   "metadata": {},
   "outputs": [],
   "source": [
    "// Use the function\n",
    "fact(10)"
   ]
  },
  {
   "cell_type": "markdown",
   "metadata": {},
   "source": [
    "### Anonymous functions\n",
    "\n",
    "Functions can also be defined on the fly. \n",
    "Anonymous functions can be assigned to a variable so that we can call it later"
   ]
  },
  {
   "cell_type": "code",
   "execution_count": null,
   "metadata": {},
   "outputs": [],
   "source": [
    "// A function, with type specification\n",
    "// (if the context was clear, we could use type inference)\n",
    "val cube = (x : Int)  => x*x*x\n",
    "\n",
    "cube(7)"
   ]
  },
  {
   "cell_type": "code",
   "execution_count": null,
   "metadata": {},
   "outputs": [],
   "source": [
    "// Same thing, but using explicit return type specification\n",
    "val cube: Int => Double = x => x*x*x\n",
    "\n",
    "cube(5)"
   ]
  },
  {
   "cell_type": "code",
   "execution_count": null,
   "metadata": {},
   "outputs": [],
   "source": [
    "// If the function is more complex, we use a brace block\n",
    "val cubeOrSquare = (x: Int) => { if( x < 10 )\n",
    "                                    x*x*x\n",
    "                                 else\n",
    "                                    x*x }\n",
    "                                    \n",
    "print( cubeOrSquare(7), cubeOrSquare(11) )"
   ]
  },
  {
   "cell_type": "markdown",
   "metadata": {},
   "source": [
    "There is also a shorthand used in which we use the underscore (`_`) as a placeholder for anonymous arguments, and we skip the argument list. See [below](#Operations-on-collections)"
   ]
  },
  {
   "cell_type": "markdown",
   "metadata": {},
   "source": [
    "### Higher order functions\n",
    "\n",
    "These are functions that take another function as a paramete and/or return a function"
   ]
  },
  {
   "cell_type": "code",
   "execution_count": null,
   "metadata": {},
   "outputs": [],
   "source": [
    "// A function that takes another function and a value, and applies the function to the square of the value \n",
    "def applySquared( func: Int => Int, value: Int) = func( value*value )\n",
    "\n",
    "// Prepare the function we will pass\n",
    "val minusOne = (x : Int) => x - 1\n",
    "\n",
    "// This should compute x^2 - 1\n",
    "print( applySquared( minusOne, 3 ) )\n",
    "\n",
    "// We can also pass directly an anonymous function. This is x^2 + 2\n",
    "applySquared( _ + 2, 6 )"
   ]
  },
  {
   "cell_type": "markdown",
   "metadata": {},
   "source": [
    "## Classes"
   ]
  },
  {
   "cell_type": "code",
   "execution_count": null,
   "metadata": {},
   "outputs": [],
   "source": [
    "/* Define a class */\n",
    "class Point( xc: Int, yc: Int ) {\n",
    "    var x: Int = xc\n",
    "    var y: Int = yc\n",
    "    def move(dx: Int, dy: Int) {\n",
    "        x = x + dx\n",
    "        y = y + dy\n",
    "    }\n",
    "    override def toString(): String = \"(\" + x + \", \" + y + \")\";\n",
    "}\n",
    "\n",
    "/* Create an instance, and operate with it */\n",
    "val p = new Point( 10, 11 )\n",
    "p.move( 2, -1 )\n",
    "println( p )"
   ]
  },
  {
   "cell_type": "markdown",
   "metadata": {},
   "source": [
    "## Collections\n",
    "\n",
    "Scala predefines a good set of collections (similar to the ones existing in other programming languages) ready to be used. See [Scala collections](http://docs.scala-lang.org/overviews/collections/introduction.html) for documentation.\n",
    "\n",
    "A list (ordered collection of items):"
   ]
  },
  {
   "cell_type": "code",
   "execution_count": null,
   "metadata": {},
   "outputs": [],
   "source": [
    "var l = List( 1, 2, 3, 4, 5 )"
   ]
  },
  {
   "cell_type": "code",
   "execution_count": null,
   "metadata": {},
   "outputs": [],
   "source": [
    "l.reverse"
   ]
  },
  {
   "cell_type": "markdown",
   "metadata": {},
   "source": [
    "A set (unordered collection of items, with fast pertenence operations):"
   ]
  },
  {
   "cell_type": "code",
   "execution_count": null,
   "metadata": {},
   "outputs": [],
   "source": [
    "var s = Set( \"a\", \"b\", \"c\", \"d\")"
   ]
  },
  {
   "cell_type": "code",
   "execution_count": null,
   "metadata": {},
   "outputs": [],
   "source": [
    "s.contains( \"c\" )"
   ]
  },
  {
   "cell_type": "code",
   "execution_count": null,
   "metadata": {},
   "outputs": [],
   "source": [
    "s & Set(\"a\",\"c\",\"f\")"
   ]
  },
  {
   "cell_type": "markdown",
   "metadata": {},
   "source": [
    "### Ranges\n",
    "\n",
    "Ranges are collections of numerical elements"
   ]
  },
  {
   "cell_type": "code",
   "execution_count": null,
   "metadata": {},
   "outputs": [],
   "source": [
    "val r = Range(1,10)\n",
    "\n",
    "r"
   ]
  },
  {
   "cell_type": "markdown",
   "metadata": {},
   "source": [
    "There is also a special syntax to define ranges using `to` or `until`"
   ]
  },
  {
   "cell_type": "code",
   "execution_count": null,
   "metadata": {},
   "outputs": [],
   "source": [
    "1 to 10"
   ]
  },
  {
   "cell_type": "code",
   "execution_count": null,
   "metadata": {},
   "outputs": [],
   "source": [
    "// define a range with a fractional increment, and convert the result to Array\n",
    "(1.0 until 10.0 by 0.5).toArray"
   ]
  },
  {
   "cell_type": "markdown",
   "metadata": {},
   "source": [
    "### Operations on collections\n",
    "\n",
    "Scala collection classes define abstract methods that apply to their contents.\n",
    "\n",
    "\n",
    "For instance, the `map` function is a higher order function, which takes a function as an argument and applies them to all elements in the collection:"
   ]
  },
  {
   "cell_type": "code",
   "execution_count": null,
   "metadata": {},
   "outputs": [],
   "source": [
    "val numbers = List(1,2,3,4)\n",
    "\n",
    "// We use here an anonymous function\n",
    "numbers.map( x => 2 * x ) "
   ]
  },
  {
   "cell_type": "code",
   "execution_count": null,
   "metadata": {},
   "outputs": [],
   "source": [
    "// Same, but now with the shorthand using the underscore, which is interpreted as a reference to an anonymous argument\n",
    "numbers.map( 2 * _ ) "
   ]
  },
  {
   "cell_type": "code",
   "execution_count": null,
   "metadata": {},
   "outputs": [],
   "source": [
    "// Another example\n",
    "numbers.filter( _ <= 2 )"
   ]
  },
  {
   "cell_type": "markdown",
   "metadata": {},
   "source": [
    "Another variant: the `reduceLeft` function applies a binary operation (two parameters) successively, until all elements in the collection have been consumed:"
   ]
  },
  {
   "cell_type": "code",
   "execution_count": null,
   "metadata": {},
   "outputs": [],
   "source": [
    "numbers.reduceLeft( (a, b) => a + b )"
   ]
  },
  {
   "cell_type": "code",
   "execution_count": null,
   "metadata": {},
   "outputs": [],
   "source": [
    "// Again, using the underscore shorthand (each underscore refers to one of the two parameters)\n",
    "numbers.reduceLeft( _ + _ )"
   ]
  },
  {
   "cell_type": "code",
   "execution_count": null,
   "metadata": {},
   "outputs": [],
   "source": []
  }
 ],
 "metadata": {
  "kernelspec": {
   "display_name": "Scala 2.12 (Almond)",
   "language": "scala",
   "name": "scala"
  },
  "language_info": {
   "codemirror_mode": "text/x-scala",
   "file_extension": ".sc",
   "mimetype": "text/x-scala",
   "name": "scala",
   "nbconvert_exporter": "script",
   "version": "2.12.11"
  },
  "toc": {
   "base_numbering": 1,
   "nav_menu": {},
   "number_sections": true,
   "sideBar": true,
   "skip_h1_title": true,
   "title_cell": "Table of Contents",
   "title_sidebar": "Contents",
   "toc_cell": false,
   "toc_position": {},
   "toc_section_display": true,
   "toc_window_display": false
  }
 },
 "nbformat": 4,
 "nbformat_minor": 4
}
