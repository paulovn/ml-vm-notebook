{
 "cells": [
  {
   "cell_type": "markdown",
   "metadata": {},
   "source": [
    "# Demonstrate the Sankey class by producing three basic diagrams\n",
    "\n",
    "Code taken from the [Sankey API](http://matplotlib.org/api/sankey_api.html) at Matplotlib doc\n"
   ]
  },
  {
   "cell_type": "code",
   "execution_count": null,
   "metadata": {},
   "outputs": [],
   "source": [
    "%matplotlib inline\n",
    "import numpy as np\n",
    "import matplotlib.pyplot as plt\n",
    "\n",
    "from matplotlib.sankey import Sankey"
   ]
  },
  {
   "cell_type": "markdown",
   "metadata": {},
   "source": [
    "## Example 1 -- Mostly defaults\n",
    "\n",
    "This demonstrates how to create a simple diagram by implicitly calling the\n",
    "Sankey.add() method and by appending finish() to the call to the class."
   ]
  },
  {
   "cell_type": "code",
   "execution_count": null,
   "metadata": {},
   "outputs": [],
   "source": [
    "Sankey(flows=[0.25, 0.15, 0.60, -0.20, -0.15, -0.05, -0.50, -0.10],\n",
    "       labels=['', '', '', 'First', 'Second', 'Third', 'Fourth', 'Fifth'],\n",
    "       orientations=[-1, 1, 0, 1, 1, 1, 0, -1]).finish()\n",
    "plt.title(\"The default settings produce a diagram like this.\");\n",
    "# Notice:\n",
    "#   1. Axes weren't provided when Sankey() was instantiated, so they were\n",
    "#      created automatically.\n",
    "#   2. The scale argument wasn't necessary since the data was already\n",
    "#      normalized.\n",
    "#   3. By default, the lengths of the paths are justified."
   ]
  },
  {
   "cell_type": "markdown",
   "metadata": {},
   "source": [
    "## Example 2\n",
    "\n",
    "This demonstrates:\n",
    "1. Setting one path longer than the others\n",
    "2. Placing a label in the middle of the diagram\n",
    "3. Using the scale argument to normalize the flows\n",
    "4. Implicitly passing keyword arguments to PathPatch()\n",
    "5. Changing the angle of the arrow heads\n",
    "6. Changing the offset between the tips of the paths and their labels\n",
    "7. Formatting the numbers in the path labels and the associated unit\n",
    "8. Changing the appearance of the patch and the labels after the figure is created"
   ]
  },
  {
   "cell_type": "code",
   "execution_count": null,
   "metadata": {},
   "outputs": [],
   "source": [
    "fig = plt.figure()\n",
    "ax = fig.add_subplot(1, 1, 1, xticks=[], yticks=[],\n",
    "                     title=\"Flow Diagram of a Widget\")\n",
    "sankey = Sankey(ax=ax, scale=0.01, offset=0.2, head_angle=180,\n",
    "                format='%.0f', unit='%')\n",
    "sankey.add(flows=[25, 0, 60, -10, -20, -5, -15, -10, -40],\n",
    "           labels=['', '', '', 'First', 'Second', 'Third', 'Fourth',\n",
    "                   'Fifth', 'Hurray!'],\n",
    "           orientations=[-1, 1, 0, 1, 1, 1, -1, -1, 0],\n",
    "           pathlengths=[0.25, 0.25, 0.25, 0.25, 0.25, 0.8, 0.25, 0.25,\n",
    "                        0.25],\n",
    "           patchlabel=\"Widget\\nA\",\n",
    "           alpha=0.2, lw=2.0)  # Arguments to matplotlib.patches.PathPatch()\n",
    "diagrams = sankey.finish()\n",
    "diagrams[0].patch.set_facecolor('#37c959')\n",
    "diagrams[0].texts[-1].set_color('r')\n",
    "diagrams[0].text.set_fontweight('bold')\n",
    "# Notice:\n",
    "#   1. Since the sum of the flows is nonzero, the width of the trunk isn't\n",
    "#      uniform.  If verbose.level is helpful (in matplotlibrc), a message is\n",
    "#      given in the terminal window.\n",
    "#   2. The second flow doesn't appear because its value is zero.  Again, if\n",
    "#      verbose.level is helpful, a message is given in the terminal window."
   ]
  },
  {
   "cell_type": "markdown",
   "metadata": {},
   "source": [
    "## Example 3\n",
    "This demonstrates:\n",
    "1. Connecting two systems\n",
    "2. Turning off the labels of the quantities\n",
    "3. Adding a legend"
   ]
  },
  {
   "cell_type": "code",
   "execution_count": null,
   "metadata": {},
   "outputs": [],
   "source": [
    "fig = plt.figure()\n",
    "ax = fig.add_subplot(1, 1, 1, xticks=[], yticks=[], title=\"Two Systems\")\n",
    "\n",
    "sankey = Sankey(ax=ax, unit=None)\n",
    "\n",
    "flows = [0.25, 0.15, 0.60, -0.10, -0.05, -0.25, -0.15, -0.10, -0.35]\n",
    "sankey.add(flows=flows, label='one',\n",
    "           orientations=[-1, 1, 0, 1, 1, 1, -1, -1, 0])\n",
    "\n",
    "sankey.add(flows=[-0.25, 0.15, 0.1], fc='#37c959', label='two',\n",
    "           orientations=[-1, -1, -1], prior=0, connect=(0, 0))\n",
    "\n",
    "diagrams = sankey.finish()\n",
    "diagrams[-1].patch.set_hatch('/')\n",
    "ax.legend(loc='best');\n",
    "# Notice that only one connection is specified, but the systems form a\n",
    "# circuit since: (1) the lengths of the paths are justified and (2) the\n",
    "# orientation and ordering of the flows is mirrored."
   ]
  },
  {
   "cell_type": "code",
   "execution_count": null,
   "metadata": {},
   "outputs": [],
   "source": []
  }
 ],
 "metadata": {
  "kernelspec": {
   "display_name": "Python 3",
   "language": "python",
   "name": "python3"
  },
  "language_info": {
   "codemirror_mode": {
    "name": "ipython",
    "version": 3
   },
   "file_extension": ".py",
   "mimetype": "text/x-python",
   "name": "python",
   "nbconvert_exporter": "python",
   "pygments_lexer": "ipython3",
   "version": "3.6.7"
  }
 },
 "nbformat": 4,
 "nbformat_minor": 1
}
