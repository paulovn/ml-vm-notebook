{
 "cells": [
  {
   "cell_type": "markdown",
   "metadata": {},
   "source": [
    "# 3D bars\n",
    "An example of using Matplotlib to create 3D plots.\n",
    "\n",
    "Taken from [mplot3d example code: bars3d_demo.py](http://matplotlib.org/examples/mplot3d/bars3d_demo.html)"
   ]
  },
  {
   "cell_type": "code",
   "execution_count": null,
   "metadata": {},
   "outputs": [],
   "source": [
    "# options: inline (non-interactive), notebook & widget\n",
    "%matplotlib widget\n",
    "\n",
    "# The basic needed imports\n",
    "import matplotlib.pyplot as plt\n",
    "#from mpl_toolkits.mplot3d import Axes3D\n",
    "import numpy as np\n",
    "\n",
    "#%config InlineBackend.print_figure_kwargs={'bbox_inches':None}\n",
    "plt.rcParams['figure.figsize'] = [10, 7]\n",
    "plt.rcParams['savefig.dpi'] = 80\n",
    "plt.rcParams['figure.dpi']  = 80"
   ]
  },
  {
   "cell_type": "code",
   "execution_count": null,
   "metadata": {},
   "outputs": [],
   "source": [
    "from mpl_toolkits.mplot3d import Axes3D\n",
    "\n",
    "# The figure to plot\n",
    "fig1 = plt.figure(figsize=(10,7), dpi=80)\n",
    "ax1 = fig1.add_subplot(111, projection='3d');\n",
    "#fig.set_size_inches(15,7)\n",
    "ax1.set_xlabel('X')\n",
    "ax1.set_ylabel('Y')\n",
    "ax1.set_zlabel('Z');\n",
    "for c, z in zip(['r', 'g', 'b', 'y'], [30, 20, 10, 0]):\n",
    "    xs = np.arange(20)\n",
    "    ys = np.random.rand(20)\n",
    "\n",
    "    # You can provide either a single color or an array. To demonstrate this,\n",
    "    # the first bar of each set will be colored cyan.\n",
    "    cs = [c] * len(xs)\n",
    "    cs[0] = 'c'\n",
    "    ax1.bar(xs, ys, zs=z, zdir='y', color=cs, alpha=0.8)\n"
   ]
  },
  {
   "cell_type": "code",
   "execution_count": null,
   "metadata": {},
   "outputs": [],
   "source": [
    "from mpl_toolkits.mplot3d import Axes3D\n",
    "\n",
    "fig2 = plt.figure(figsize=(10,7), dpi=80)\n",
    "ax2 = plt.axes(projection='3d')\n",
    "\n",
    "# Data for a three-dimensional line\n",
    "zline = np.linspace(0, 15, 1000)\n",
    "xline = np.sin(zline)\n",
    "yline = np.cos(zline)\n",
    "ax2.plot3D(xline, yline, zline, 'gray')\n",
    "\n",
    "# Data for three-dimensional scattered points\n",
    "zdata = 15 * np.random.random(100)\n",
    "xdata = np.sin(zdata) + 0.1 * np.random.randn(100)\n",
    "ydata = np.cos(zdata) + 0.1 * np.random.randn(100)\n",
    "ax2.scatter3D(xdata, ydata, zdata, c=zdata, cmap='Greens');\n"
   ]
  },
  {
   "cell_type": "code",
   "execution_count": null,
   "metadata": {},
   "outputs": [],
   "source": []
  }
 ],
 "metadata": {
  "kernelspec": {
   "display_name": "Python 3",
   "language": "python",
   "name": "python3"
  },
  "language_info": {
   "codemirror_mode": {
    "name": "ipython",
    "version": 3
   },
   "file_extension": ".py",
   "mimetype": "text/x-python",
   "name": "python",
   "nbconvert_exporter": "python",
   "pygments_lexer": "ipython3",
   "version": "3.6.7"
  }
 },
 "nbformat": 4,
 "nbformat_minor": 1
}
