{
 "cells": [
  {
   "cell_type": "markdown",
   "metadata": {},
   "source": [
    "# Graphviz usage in Python notebooks\n",
    "\n",
    "[Graphviz](http://www.graphviz.org) is a library/program for algorithmic redering of graphs, given their nodes and edges. It can be used to create diagrams programmatically."
   ]
  },
  {
   "cell_type": "code",
   "execution_count": null,
   "metadata": {},
   "outputs": [],
   "source": [
    "from __future__ import print_function"
   ]
  },
  {
   "cell_type": "markdown",
   "metadata": {},
   "source": [
    "There are many available Python packages providing APIs for Graphviz. In no particular order:\n",
    "* [pygraphviz](https://pygraphviz.github.io/)\n",
    "* [graphviz](http://graphviz.readthedocs.io/en/latest/manual.html)\n",
    "* [pydot](https://github.com/erocarrera/pydot)\n",
    "* [pydot-ng](https://github.com/pydot/pydot-ng)\n",
    "* [pydotplus](http://pydotplus.readthedocs.io/)\n",
    "* graphviz-python. API provided by [Graphviz](http://www.graphviz.org/Documentation.php) itself.\n",
    "\n",
    "The VM contains a couple of them: *pydot* and *graphviz*"
   ]
  },
  {
   "cell_type": "markdown",
   "metadata": {},
   "source": [
    "## pydot"
   ]
  },
  {
   "cell_type": "code",
   "execution_count": null,
   "metadata": {},
   "outputs": [],
   "source": [
    "import pydot"
   ]
  },
  {
   "cell_type": "code",
   "execution_count": null,
   "metadata": {},
   "outputs": [],
   "source": [
    "# Create a graph and set defaults\n",
    "dot = pydot.Dot()                                                           \n",
    "dot.set('rankdir', 'TB')                                                    \n",
    "dot.set('concentrate', True)                                                \n",
    "dot.set_node_defaults(shape='record')                                       "
   ]
  },
  {
   "cell_type": "code",
   "execution_count": null,
   "metadata": {},
   "outputs": [],
   "source": [
    "# Add nodes and edges\n",
    "node = pydot.Node(1, label=\"FROM\")\n",
    "dot.add_node(node)\n",
    "\n",
    "node = pydot.Node(2, label=\"TO\")\n",
    "dot.add_node(node)\n",
    "\n",
    "dot.add_edge( pydot.Edge(1,2))"
   ]
  },
  {
   "cell_type": "markdown",
   "metadata": {},
   "source": [
    "### Render\n",
    "\n",
    "To render the graph in the notebook we call the `create_svg()` method, and the return rendered SVG can be output as the Notebook cell results by using the IPython `SVG` call"
   ]
  },
  {
   "cell_type": "code",
   "execution_count": null,
   "metadata": {},
   "outputs": [],
   "source": [
    "from IPython.core.display import SVG\n",
    "\n",
    "img = dot.create_svg()\n",
    "SVG( data=img )"
   ]
  },
  {
   "cell_type": "markdown",
   "metadata": {},
   "source": [
    "We can also set properties on the graph nodes"
   ]
  },
  {
   "cell_type": "code",
   "execution_count": null,
   "metadata": {},
   "outputs": [],
   "source": [
    "for n in dot.get_nodes():\n",
    "    n.set('style', 'filled')\n",
    "    n.set('fillcolor', 'aliceblue')\n",
    "    n.set('fontsize', '10')\n",
    "    n.set('fontname', 'Trebuchet MS, Tahoma, Verdana, Arial, Helvetica, sans-serif')"
   ]
  },
  {
   "cell_type": "code",
   "execution_count": null,
   "metadata": {},
   "outputs": [],
   "source": [
    "SVG( data=dot.create_svg() )"
   ]
  },
  {
   "cell_type": "markdown",
   "metadata": {},
   "source": [
    "It is also possible to render as PNG and display as image (though the quality, in general, will be lower)"
   ]
  },
  {
   "cell_type": "code",
   "execution_count": null,
   "metadata": {},
   "outputs": [],
   "source": [
    "from IPython.core.display import Image\n",
    "Image( data=dot.create_png() )"
   ]
  },
  {
   "cell_type": "markdown",
   "metadata": {},
   "source": [
    "## Graphviz\n",
    "\n",
    "The [graphviz](http://graphviz.readthedocs.io/en/latest/manual.html) package offers a very similar procedure:\n",
    "* Create a `Graph` or `DiGraph` object\n",
    "* Use the `node()` and `edge()` methods to add nodes and edges, respectively\n",
    "* Render the graph into a file (in the format given in the constructor) by calling the `render()` method. Available formats will depend on the graphviz installation\n"
   ]
  },
  {
   "cell_type": "code",
   "execution_count": null,
   "metadata": {},
   "outputs": [],
   "source": [
    "import graphviz as gv"
   ]
  },
  {
   "cell_type": "code",
   "execution_count": null,
   "metadata": {},
   "outputs": [],
   "source": [
    "g1 = gv.Graph(format='svg')\n",
    "g1.node('A')\n",
    "g1.node('B')\n",
    "g1.edge('A', 'B')"
   ]
  },
  {
   "cell_type": "markdown",
   "metadata": {},
   "source": [
    "### Render"
   ]
  },
  {
   "cell_type": "code",
   "execution_count": null,
   "metadata": {},
   "outputs": [],
   "source": [
    "# Render into \"example.svg\" file\n",
    "g1.render( filename=\"example\")"
   ]
  },
  {
   "cell_type": "markdown",
   "metadata": {},
   "source": [
    "Furthermode, the package provides a useful facility for notebooks: `Graph` or `Digraph` objects contain a `_repr_svg_()` method that makes them directly renderizable in a notebook"
   ]
  },
  {
   "cell_type": "code",
   "execution_count": null,
   "metadata": {},
   "outputs": [],
   "source": [
    "# Create a graph\n",
    "dot = gv.Digraph(comment='The Round Table', engine='dot')\n",
    "\n",
    "dot.node('A', 'King Arthur', color=\"blue\", fillcolor=\"lightgray\", style=\"filled\", fontcolor=\"red\", fontname=\"Verdana\")\n",
    "dot.node('B', 'Sir Bedevere the Wise')\n",
    "dot.node('L', 'Sir Lancelot the Brave', shape=\"rectangle\")\n",
    "\n",
    "dot.edges(['AB', 'AL'])\n",
    "dot.edge('B', 'L', constraint='false', color=\"blue\")"
   ]
  },
  {
   "cell_type": "code",
   "execution_count": null,
   "metadata": {},
   "outputs": [],
   "source": [
    "# Render in notebook by just outputting the graph as the result of a cell\n",
    "dot"
   ]
  },
  {
   "cell_type": "markdown",
   "metadata": {},
   "source": [
    "It is also possible to directly provide a buffer containing a graph written in dot language, by using the `Source` class:"
   ]
  },
  {
   "cell_type": "code",
   "execution_count": null,
   "metadata": {},
   "outputs": [],
   "source": [
    "src = gv.Source('digraph \"countdown\" { rankdir=LR; 3 -> 2 -> 1 -> \"Go!\" }')"
   ]
  },
  {
   "cell_type": "code",
   "execution_count": null,
   "metadata": {},
   "outputs": [],
   "source": [
    "# Again, the result can be rendered directly in the Notebook\n",
    "src"
   ]
  },
  {
   "cell_type": "code",
   "execution_count": null,
   "metadata": {},
   "outputs": [],
   "source": []
  }
 ],
 "metadata": {
  "kernelspec": {
   "display_name": "Python 3",
   "language": "python",
   "name": "python3"
  },
  "language_info": {
   "codemirror_mode": {
    "name": "ipython",
    "version": 3
   },
   "file_extension": ".py",
   "mimetype": "text/x-python",
   "name": "python",
   "nbconvert_exporter": "python",
   "pygments_lexer": "ipython3",
   "version": "3.6.7"
  }
 },
 "nbformat": 4,
 "nbformat_minor": 2
}
