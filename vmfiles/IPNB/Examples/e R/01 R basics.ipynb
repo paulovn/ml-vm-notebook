{
 "cells": [
  {
   "cell_type": "markdown",
   "metadata": {},
   "source": [
    "# Simple tests for an R kernel\n",
    "<!-- version: 1.2, 2023 -->\n",
    "This shows basic R manipulation. No access to Spark."
   ]
  },
  {
   "cell_type": "markdown",
   "metadata": {
    "collapsed": true,
    "jupyter": {
     "outputs_hidden": true
    }
   },
   "source": [
    "## Data manipulation"
   ]
  },
  {
   "cell_type": "code",
   "execution_count": null,
   "metadata": {},
   "outputs": [],
   "source": [
    "num = 200\n",
    "\n",
    "# Create a normal variable\n",
    "a = 1:num\n",
    "b = rnorm(num,6)\n",
    "\n",
    "# Another vector, by mixing from two random variables\n",
    "c1 = c( rnorm(num/2,5,3),  rnorm(num/2,9,4) )\n",
    "c2 = as.factor( c( rep('A',num/2), rep('B',num/2) ) )\n",
    "c = data.frame( dvalue2=c1, vtype=c2 )\n",
    "\n",
    "c = c[ sample(num), ]"
   ]
  },
  {
   "cell_type": "code",
   "execution_count": null,
   "metadata": {},
   "outputs": [],
   "source": [
    "summary(c)"
   ]
  },
  {
   "cell_type": "code",
   "execution_count": null,
   "metadata": {},
   "outputs": [],
   "source": [
    "exdf = data.frame( dnum=a, dvalue1=b )\n",
    "exdf <- cbind( exdf, c )"
   ]
  },
  {
   "cell_type": "code",
   "execution_count": null,
   "metadata": {},
   "outputs": [],
   "source": [
    "class(exdf)"
   ]
  },
  {
   "cell_type": "code",
   "execution_count": null,
   "metadata": {},
   "outputs": [],
   "source": [
    "head(exdf)"
   ]
  },
  {
   "cell_type": "code",
   "execution_count": null,
   "metadata": {},
   "outputs": [],
   "source": [
    "summary(exdf)"
   ]
  },
  {
   "cell_type": "markdown",
   "metadata": {},
   "source": [
    "## Graphics"
   ]
  },
  {
   "cell_type": "code",
   "execution_count": null,
   "metadata": {},
   "outputs": [],
   "source": [
    "# Load the ggplot graphics library\n",
    "library('ggplot2')\n",
    "\n",
    "# A density plot\n",
    "ggplot(data=exdf, aes(x=dvalue1)) + geom_density()"
   ]
  },
  {
   "cell_type": "code",
   "execution_count": null,
   "metadata": {},
   "outputs": [],
   "source": [
    "# Change default plot size (values in inches)\n",
    "options(repr.plot.width = 12, repr.plot.height = 8)\n",
    "\n",
    "# A scatterplot, discriminating by the factor in the 'vtype' column\n",
    "ggplot(data=exdf, aes(x=dvalue1, y=dvalue2, color=vtype)) + geom_point()"
   ]
  },
  {
   "cell_type": "markdown",
   "metadata": {},
   "source": [
    "## Documentation\n",
    "\n",
    "The IRKernel has also autocompletion (use `TAB`). It does also have contextual helps (tooltips), use `shift-TAB` on a R keyword for it.\n",
    "\n",
    "It provides also full acccess to R documentation:"
   ]
  },
  {
   "cell_type": "code",
   "execution_count": null,
   "metadata": {},
   "outputs": [],
   "source": [
    "?Lognormal"
   ]
  },
  {
   "cell_type": "code",
   "execution_count": null,
   "metadata": {},
   "outputs": [],
   "source": []
  }
 ],
 "metadata": {
  "kernelspec": {
   "display_name": "R",
   "language": "R",
   "name": "ir"
  },
  "language_info": {
   "codemirror_mode": "r",
   "file_extension": ".r",
   "mimetype": "text/x-r-source",
   "name": "R",
   "pygments_lexer": "r",
   "version": "4.4.2"
  }
 },
 "nbformat": 4,
 "nbformat_minor": 4
}
