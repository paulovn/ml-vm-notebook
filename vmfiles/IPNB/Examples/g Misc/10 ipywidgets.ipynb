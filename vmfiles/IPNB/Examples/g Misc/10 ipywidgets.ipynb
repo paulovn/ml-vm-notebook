{
 "cells": [
  {
   "cell_type": "markdown",
   "metadata": {},
   "source": [
    "# Ipywidgets\n",
    "<!-- version: 1.1, 2023 -->\n",
    "\n",
    "[ipywidgets](https://ipywidgets.readthedocs.io/en/stable/) is a Python package providing interactive widgets for Jupyter notebooks.\n",
    "* [ipywidgets installation](https://github.com/jupyter-widgets/ipywidgets/blob/master/README.md#install)\n",
    "* A small tutorial: [interactive dashboards on Jupyter](https://blog.dominodatalab.com/interactive-dashboards-in-jupyter/)"
   ]
  },
  {
   "cell_type": "code",
   "execution_count": null,
   "metadata": {},
   "outputs": [],
   "source": [
    "from ipywidgets import widgets"
   ]
  },
  {
   "cell_type": "markdown",
   "metadata": {},
   "source": [
    "## Text example\n",
    "\n",
    "This example shows a text box. The widget handler just receives the text and fills another widget (a text label) with it."
   ]
  },
  {
   "cell_type": "code",
   "execution_count": null,
   "metadata": {},
   "outputs": [],
   "source": [
    "from IPython.display import display\n",
    "\n",
    "lbl = widgets.Label()\n",
    "text = widgets.Text()\n",
    "\n",
    "def handle_submit(sender):\n",
    "    lbl.value = f\" The text is: {text.value}\"\n",
    "\n",
    "display(widgets.HBox([text, lbl]))\n",
    "\n",
    "text.continuous_update = False\n",
    "text.observe(handle_submit)"
   ]
  },
  {
   "cell_type": "markdown",
   "metadata": {
    "collapsed": true,
    "jupyter": {
     "outputs_hidden": true
    }
   },
   "source": [
    "## Interact\n",
    "[`interact(function, variable)`](http://ipywidgets.readthedocs.io/en/latest/examples/Using%20Interact.html) creates a widget to modify the variable and binds it to the passed funcion. The widget type that is created depends on the type of the passed variable.\n",
    "\n",
    "Note that the *name* of the variable given in the argument to `interact` must be the same as its name as given as argument to the handler function"
   ]
  },
  {
   "cell_type": "code",
   "execution_count": null,
   "metadata": {},
   "outputs": [],
   "source": [
    "def doit(n):\n",
    "    'receive the result of the widget in the function, and do sometthing with it'\n",
    "    print(\"processed:\", n*2+1)\n",
    "    \n",
    "widgets.interact(doit, n=[1, 2, 3]);\n",
    "widgets.interact(doit, n=(0,1,0.1));"
   ]
  },
  {
   "cell_type": "code",
   "execution_count": null,
   "metadata": {},
   "outputs": [],
   "source": [
    "import matplotlib.pyplot as plt\n",
    "import numpy as np\n",
    "import math"
   ]
  },
  {
   "cell_type": "code",
   "execution_count": null,
   "metadata": {},
   "outputs": [],
   "source": [
    "t = np.arange( 0.0, 1.0, 0.01)\n",
    "\n",
    "def myplot( factor ):\n",
    "    plt.plot( t, np.sin(2*math.pi*t*factor) )\n",
    "    plt.show()\n",
    "    \n",
    "widgets.interact( myplot, factor=(0, 10, 2) );"
   ]
  },
  {
   "cell_type": "code",
   "execution_count": null,
   "metadata": {},
   "outputs": [],
   "source": [
    "def do_something( fruit=\"oranges\" ):\n",
    "    print(\"Selected: [\",fruit,\"]\")\n",
    "    \n",
    "widgets.interact(do_something, fruit=['apples','pears', 'oranges']);"
   ]
  },
  {
   "cell_type": "markdown",
   "metadata": {},
   "source": [
    "## Layout\n",
    "\n",
    "Build a more complex layout by adding together widgets vertically and/or horizontally."
   ]
  },
  {
   "cell_type": "code",
   "execution_count": null,
   "metadata": {},
   "outputs": [],
   "source": [
    "from ipywidgets.widgets import (\n",
    "    Button, HBox, VBox, Text, Textarea, Checkbox, IntSlider, \n",
    "    Controller, Dropdown, ColorPicker)\n",
    "from ipywidgets import Layout\n",
    "\n",
    "area = \"\"\"Lorem ipsum dolor sit amet, consectetur adipiscing elit,\n",
    "sed do eiusmod tempor incididunt ut labore et dolore magna aliqua.\n",
    "Ut enim ad minim veniam, quis nostrud exercitation ullamco laboris\n",
    "nisi ut aliquip ex ea commodo consequat. Duis aute irure dolor in \n",
    "reprehenderit in voluptate velit esse cillum dolore eu fugiat nulla\n",
    "pariatur. Excepteur sint occaecat cupidatat non proident, sunt in culpa\n",
    "qui officia deserunt mollit anim id est laborum.\"\"\"\n",
    "\n",
    "textarea = Textarea(value=area, layout=Layout(height=\"8em\", width=\"30em\"))\n",
    "dropdown = Dropdown(description='Choice', options=['foo', 'bar'])\n",
    "\n",
    "HBox( [VBox([dropdown, \n",
    "             HBox([Button(description='A'), Button(description='B')])]), \n",
    "        textarea])"
   ]
  },
  {
   "cell_type": "code",
   "execution_count": null,
   "metadata": {},
   "outputs": [],
   "source": []
  }
 ],
 "metadata": {
  "kernelspec": {
   "display_name": "Python 3 (ipykernel)",
   "language": "python",
   "name": "python3"
  },
  "language_info": {
   "codemirror_mode": {
    "name": "ipython",
    "version": 3
   },
   "file_extension": ".py",
   "mimetype": "text/x-python",
   "name": "python",
   "nbconvert_exporter": "python",
   "pygments_lexer": "ipython3",
   "version": "3.12.3"
  }
 },
 "nbformat": 4,
 "nbformat_minor": 4
}
